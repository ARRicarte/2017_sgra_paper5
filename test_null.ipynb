{
 "cells": [
  {
   "cell_type": "code",
   "execution_count": 1,
   "id": "459219aa-c3a0-4578-8206-9e7e722dbf5a",
   "metadata": {},
   "outputs": [],
   "source": [
    "%load_ext autoreload\n",
    "%autoreload 2\n",
    "\n",
    "import numpy  as np\n",
    "import pandas as pd\n",
    "import h5py\n",
    "\n",
    "from astropy    import units\n",
    "from matplotlib import pyplot as plt\n",
    "\n",
    "from scipy.interpolate import RegularGridInterpolator\n",
    "from scipy.signal      import argrelextrema\n",
    "\n",
    "from common import hallmark as hm\n",
    "from common import mockservation as mk\n",
    "from common import dalt\n",
    "from common import viz"
   ]
  },
  {
   "cell_type": "markdown",
   "id": "098f1240-6386-421c-aadd-6cf0896f8a87",
   "metadata": {},
   "source": [
    "## Load simulation data from cache"
   ]
  },
  {
   "cell_type": "code",
   "execution_count": 2,
   "id": "6564e81b-a1e3-4241-a2e1-04f67c919d83",
   "metadata": {},
   "outputs": [
    {
     "name": "stdout",
     "output_type": "stream",
     "text": [
      "Rhigh [  1  10  40 160]\n",
      "inc [ 10  30  50  70  90 110 130 150 170]\n",
      "win [1 2 3 4 5]\n",
      "mag ['M' 'S']\n",
      "aspin [-0.94 -0.5   0.    0.5   0.94]\n",
      "freq ['230GHz' '2um' '86GHz']\n"
     ]
    }
   ],
   "source": [
    "def getdist(path, dist):\n",
    "    df = pd.read_csv(path, sep='\\t')\n",
    "    return df[dist].values\n",
    "\n",
    "pf = hm.ParaFrame('cache/Illinois_thermal_w{win:d}/{mag}a{aspin:g}_i{inc:d}/gt_Rh{Rhigh:d}_{freq}.h5')\n",
    "\n",
    "for k in set(pf.keys()) - {'path'}:\n",
    "    globals()[k] = np.unique(pf[k])\n",
    "    print(k, globals()[k][:16])"
   ]
  },
  {
   "cell_type": "code",
   "execution_count": null,
   "id": "b5ca42a7-0e88-4512-a737-15df08984e9d",
   "metadata": {},
   "outputs": [
    {
     "data": {
      "text/plain": [
       "<AxesSubplot:xlabel='$x$ [$\\\\mathrm{\\\\mu as}$]', ylabel='$y$ [$\\\\mathrm{\\\\mu as}$]'>"
      ]
     },
     "execution_count": 3,
     "metadata": {},
     "output_type": "execute_result"
    }
   ],
   "source": [
    "def load(f):\n",
    "    with h5py.File(f) as h:\n",
    "        m    = h['meta']\n",
    "        meta = dalt.ImageMeta(**{k:m[k][()] for k in m.keys()})\n",
    "        data = h['data'][:]\n",
    "    return dalt.Image(data, meta=meta)\n",
    "        \n",
    "mov = load(pf(freq='230GHz').path.iloc[10])\n",
    "viz.show(mov, s=0)"
   ]
  },
  {
   "cell_type": "code",
   "execution_count": null,
   "id": "52cc313f-269e-417e-9481-7da6e422d8f1",
   "metadata": {},
   "outputs": [],
   "source": [
    "vis = mk.mockserve(mov, N=256)\n",
    "viz.show(vis, s=0, f=lambda v: np.log(abs(v).value))"
   ]
  },
  {
   "cell_type": "code",
   "execution_count": null,
   "id": "b2aebfea-8cca-44a4-8ebb-9c780f3841f5",
   "metadata": {},
   "outputs": [],
   "source": [
    "U, V = vis.uvd\n",
    "\n",
    "u = np.linspace( 0,   U/2, num=vis.shape[-1])\n",
    "v = np.linspace(-V/2, V/2, num=vis.shape[-2], endpoint=False)\n",
    "t = vis.meta.time.value\n",
    "\n",
    "amp = RegularGridInterpolator((t, v, u[::-1]), abs     (vis[...,::-1]))\n",
    "phi = RegularGridInterpolator((t, v, u[::-1]), np.angle(vis[...,::-1]))"
   ]
  },
  {
   "cell_type": "code",
   "execution_count": null,
   "id": "5162ba9a-0086-4409-b0d4-10ede3db5004",
   "metadata": {},
   "outputs": [],
   "source": [
    "bmin = 6e9\n",
    "bmax = 9e9\n",
    "\n",
    "uvd = np.linspace(0, 1e10, 1024)\n",
    "\n",
    "for i in range(-90,90+1,20):\n",
    "    phi = np.pi * i / 180\n",
    "\n",
    "    u = uvd * np.cos(phi)\n",
    "    v = uvd * np.sin(phi)\n",
    "\n",
    "    mask = u <= 0\n",
    "    \n",
    "    p = np.array([np.repeat(t[0], np.sum( mask)),  v[ mask],  u[ mask]]).T\n",
    "    m = np.array([np.repeat(t[0], np.sum(~mask)), -v[~mask], -u[~mask]]).T\n",
    "    \n",
    "    s = np.zeros(len(uvd))\n",
    "    s[ mask] = amp(p)\n",
    "    s[~mask] = amp(m)\n",
    "        \n",
    "    plt.semilogy(uvd, s, ':' if i < 0 else '-', label=f'i={i}')\n",
    "\n",
    "    lm = argrelextrema(s, np.less)[0]\n",
    "    plt.scatter(uvd[lm], s[lm])\n",
    "    \n",
    "    ms = np.median(s[(bmin < uvd) & (uvd < bmax)])\n",
    "    plt.plot([bmin, bmax], [ms, ms], ':' if i < 0 else '-', alpha=1/3)\n",
    "\n",
    "plt.legend()"
   ]
  },
  {
   "cell_type": "code",
   "execution_count": null,
   "id": "1c328011-304f-4416-8738-28dc5703edd2",
   "metadata": {},
   "outputs": [],
   "source": []
  }
 ],
 "metadata": {
  "kernelspec": {
   "display_name": "Python 3 (ipykernel)",
   "language": "python",
   "name": "python3"
  },
  "language_info": {
   "codemirror_mode": {
    "name": "ipython",
    "version": 3
   },
   "file_extension": ".py",
   "mimetype": "text/x-python",
   "name": "python",
   "nbconvert_exporter": "python",
   "pygments_lexer": "ipython3",
   "version": "3.9.9"
  }
 },
 "nbformat": 4,
 "nbformat_minor": 5
}
