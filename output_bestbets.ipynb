{
 "cells": [
  {
   "cell_type": "code",
   "execution_count": 1,
   "id": "9adfb973-5596-47f1-8642-76e5fe52cdc2",
   "metadata": {},
   "outputs": [],
   "source": [
    "%load_ext autoreload\n",
    "%autoreload 2\n",
    "\n",
    "import numpy  as np\n",
    "import pandas as pd\n",
    "import h5py\n",
    "\n",
    "from tqdm import tqdm\n",
    "from astropy import units as u\n",
    "from scipy.interpolate import interp1d\n",
    "\n",
    "import ehtplot\n",
    "from matplotlib import pyplot as plt, cm\n",
    "\n",
    "from common import dalt\n",
    "from common import hallmark as hm\n",
    "from common import viz\n",
    "from common import io_ipole as io"
   ]
  },
  {
   "cell_type": "code",
   "execution_count": 2,
   "id": "8196f46e-1f76-4532-b5c4-bf48fdaeb09d",
   "metadata": {},
   "outputs": [
    {
     "name": "stdout",
     "output_type": "stream",
     "text": [
      "win [5]\n",
      "snapshot [5000 5001 5002 5003 5004 5005 5006 5007 5008 5009 5010 5011 5012 5013\n",
      " 5014 5015]\n",
      "aspin [0.5  0.94]\n",
      "Rhigh [10 40]\n",
      "inc [50 70]\n",
      "freq ['230GHz']\n",
      "mag ['M' 'S']\n"
     ]
    }
   ],
   "source": [
    "pf_img = hm.ParaFrame('model/Illinois_thermal/{freq}/{mag}a{aspin:g}_w{win:d}/img_s{snapshot:d}_Rh{Rhigh:d}_i{inc:d}.h5')\n",
    "\n",
    "for k in set(pf_img.keys()) - {'path'}:\n",
    "    globals()[k] = np.unique(pf_img[k])\n",
    "    print(k, globals()[k][:16])"
   ]
  },
  {
   "cell_type": "code",
   "execution_count": 3,
   "id": "cdbfce1e-58e6-45f1-ba94-d786666d9bd8",
   "metadata": {},
   "outputs": [
    {
     "name": "stdout",
     "output_type": "stream",
     "text": [
      "win [3 4 5]\n",
      "inc [ 10  30  50  70  90 110 130 150 170]\n",
      "Rhigh [  1  10  40 160]\n",
      "aspin [-0.94 -0.5   0.    0.5   0.94]\n",
      "freq ['230GHz' '2um' '86GHz']\n",
      "mag ['M' 'S']\n"
     ]
    }
   ],
   "source": [
    "pf_summ = hm.ParaFrame('cache/Illinois_thermal_w{win:d}/{mag}a{aspin:g}_i{inc:d}/summ_Rh{Rhigh:d}_{freq}.tsv')\n",
    "\n",
    "for k in set(pf_summ.keys()) - {'path'}:\n",
    "    globals()[k] = np.unique(pf_summ[k])\n",
    "    print(k, globals()[k][:16])"
   ]
  },
  {
   "cell_type": "code",
   "execution_count": 4,
   "id": "ce4ff11f-37c3-42e3-9296-b0100bbc73b2",
   "metadata": {},
   "outputs": [
    {
     "name": "stdout",
     "output_type": "stream",
     "text": [
      "win [3 4 5]\n",
      "inc [ 10  30  50  70  90 110 130 150 170]\n",
      "Rhigh [  1  10  40 160]\n",
      "aspin [-0.94 -0.5   0.    0.5   0.94]\n",
      "mag ['M' 'S']\n"
     ]
    }
   ],
   "source": [
    "pf_sed = hm.ParaFrame('cache/Illinois_thermal_w{win:d}/{mag}a{aspin:g}_i{inc:d}/sed_Rh{Rhigh:d}.h5')\n",
    "\n",
    "for k in set(pf_sed.keys()) - {'path'}:\n",
    "    globals()[k] = np.unique(pf_sed[k])\n",
    "    print(k, globals()[k][:16])\n",
    "    \n",
    "def readsed(f, snapshot=None):\n",
    "\n",
    "    with h5py.File(f) as h:\n",
    "        time = h['time'][:]\n",
    "        nu   = h['nu'  ][:]\n",
    "        knd  = h['knd' ][:]\n",
    "        avg  = h['avg' ][:]\n",
    "      # err  = h['err' ][:]\n",
    "        rlz  = h['len' ][:]\n",
    "\n",
    "    if not all(rlz == 16):\n",
    "        print('WARNING: less than 16 realizations:', f)\n",
    "\n",
    "    nuLnu = interp1d(time, avg, axis=0)\n",
    "    \n",
    "    return time, nu, nuLnu, [k.decode(\"utf-8\") for k in knd]"
   ]
  },
  {
   "cell_type": "code",
   "execution_count": 5,
   "id": "3c616dd3-677b-4619-b5f9-993fa98a1e49",
   "metadata": {},
   "outputs": [],
   "source": [
    "def Fnu_to_nuLnu(nu, Fnu):\n",
    "    d = 8.127e3 * u.pc\n",
    "    S = 4 * np.pi * d * d\n",
    "    return (Fnu*u.Jy * S * nu*u.Hz).to(u.erg/u.second).value"
   ]
  },
  {
   "cell_type": "code",
   "execution_count": 6,
   "id": "f10132e8-a71d-4c4b-8a2b-66dffb413b9c",
   "metadata": {},
   "outputs": [],
   "source": [
    "def plot_snapshot(a, m, i, Rh, w):\n",
    "    \n",
    "    sel_sed = pf_sed(aspin=a)(mag=m)(inc=i)(Rhigh=Rh)(win=w)\n",
    "    assert len(sel_sed) == 1\n",
    "    \n",
    "    sel_summ = pf_summ(aspin=a)(mag=m)(inc=i)(Rhigh=Rh)(win=w)\n",
    "    assert len(sel_summ) == 3\n",
    "\n",
    "    sel_img = pf_img(aspin=a)(mag=m)(inc=i)(Rhigh=Rh)(win=w)\n",
    "    assert len(sel_img) == 1000 # 3000\n",
    "    \n",
    "    time, nu, nuLnu, knd = readsed(sel_sed.path.iloc[0])\n",
    "    df_86GHz   = pd.read_csv(sel_summ(freq='86GHz' ).path.iloc[0], sep='\\t')\n",
    "    df_230GHz  = pd.read_csv(sel_summ(freq='230GHz').path.iloc[0], sep='\\t')\n",
    "    df_2um     = pd.read_csv(sel_summ(freq='2um'   ).path.iloc[0], sep='\\t')\n",
    "    mov_230GHz = io.load_mov(tqdm(sel_img(freq='230GHz').path.iloc[:2]))\n",
    "    \n",
    "    for s, t in enumerate(tqdm(mov_230GHz.meta.time)):\n",
    "        hr = df_230GHz.time_hr.iloc[s] - df_230GHz.time_hr.iloc[0]\n",
    "        \n",
    "        fig = plt.figure(constrained_layout=True, figsize=(20,8))\n",
    "        \n",
    "        gs  = fig.add_gridspec(4,5)\n",
    "        ax0 = fig.add_subplot(gs[0:2,0])\n",
    "        ax1 = fig.add_subplot(gs[0:2,1])\n",
    "        ax2 = fig.add_subplot(gs[0:2,2])\n",
    "        ax3 = fig.add_subplot(gs[:,3:])\n",
    "        ax4 = fig.add_subplot(gs[2,:3])\n",
    "        ax5 = fig.add_subplot(gs[3,:3])\n",
    "\n",
    "        r = df_86GHz.iloc[s]\n",
    "        viz.show(mov_86GHz, s=i, ax=ax1, cmap='afmhot_10us', vmin=0, vmax=df_86GHz.Imax.median())\n",
    "        viz.ellipse(r.alpha0, r.beta0, r.major_FWHM, r.minor_FWHM, r.PA, ax=ax1, color='w')\n",
    "\n",
    "        r = df_230GHz.iloc[s]\n",
    "        viz.show(mov_230GHz, s=s, ax=ax1, cmap='afmhot_10us', vmin=0, vmax=df_230GHz.Imax.median())\n",
    "        viz.ellipse(r.alpha0, r.beta0, r.major_FWHM, r.minor_FWHM, r.PA, ax=ax1, color='w')\n",
    "\n",
    "        r = df_2um.iloc[s]\n",
    "        viz.show(mov_2um, s=i, ax=ax1, cmap='afmhot_10us', vmin=0, vmax=df_86GHz.Imax.median())\n",
    "        viz.ellipse(r.alpha0, r.beta0, r.major_FWHM, r.minor_FWHM, r.PA, ax=ax1, color='w')\n",
    "\n",
    "        viz.step(ax3, nu, nuLnu(t), label=knd)\n",
    "        ax3.errorbar(\n",
    "            [86e9, 230e9, 1.4141e+14, 1.45e18], \n",
    "            [Fnu_to_nuLnu(86e9,1.9), Fnu_to_nuLnu(230e9,2.4), Fnu_to_nuLnu(1.4141e+14,1e-3), 1e33],\n",
    "            yerr=[Fnu_to_nuLnu(86e9,0.2), 0, Fnu_to_nuLnu(1.4141e+14,1e-3)/2, 1e33/2],\n",
    "            uplims=[False,False,True,True],\n",
    "            fmt='o', color='k'\n",
    "        )\n",
    "        ax3.set_xlim(1e9,  1e23)\n",
    "        ax3.set_ylim(1e27, 1e37)\n",
    "        ax3.set_xlabel(r'$\\nu$ [Hz]')\n",
    "        ax3.set_ylabel(r'$\\nu L_\\nu$ [erg/s]')\n",
    "        ax3.text(2e9, 4e36, f'Time = {t:g} = {hr:g} hr', fontsize=16)\n",
    "        ax3.legend(loc='upper right')\n",
    "        \n",
    "        p = ax4.plot(df_86GHz .time, df_86GHz .Ftot, label='86GHz flux')\n",
    "        ax4.axhline(y=1.9, linewidth=1, alpha=0.5, color=p[0].get_color())\n",
    "        p = ax4.plot(df_230GHz.time, df_230GHz.Ftot, label='230GHz flux')\n",
    "        ax4.axhline(y=2.4, linewidth=1, alpha=0.5, color=p[0].get_color())\n",
    "        p = ax4.plot(df_2um   .time, df_2um   .Ftot, label='2um flux')\n",
    "        ax4.axhline(y=1e-3,linewidth=1, alpha=0.5, color=p[0].get_color())\n",
    "        ax4.set_xlabel('Time [M]')\n",
    "        ax4.set_ylabel(r'$F_\\nu$ [Jy]')\n",
    "        ax4.legend(loc='upper right')\n",
    "        ax4.axvline(x=t.value, color='k')\n",
    "        ax4.set_yscale('log')\n",
    "        \n",
    "        p = ax5.plot(df_86GHz .time, df_86GHz .major_FWHM, alpha=0.5, label='86GHz major')\n",
    "        ax5.axhline(y=120, linewidth=1, alpha=0.5, color=p[0].get_color())\n",
    "        p = ax5.plot(df_230GHz.time, df_230GHz.major_FWHM, alpha=0.5, label='230GHz major')\n",
    "        ax5.axhline(y=95,  linewidth=1, alpha=0.5, color=p[0].get_color())\n",
    "        p = ax5.plot(df_230GHz.time, df_230GHz.minor_FWHM, alpha=0.5, label='230GHz minor')\n",
    "        ax5.axhline(y=38,  linewidth=1, alpha=0.5, color=p[0].get_color())\n",
    "        ax5.set_xlabel('Time [M]')\n",
    "        ax5.set_ylabel(r'Angular size [$\\mu$as]')\n",
    "        ax5.legend(loc='upper right')\n",
    "        ax5.axvline(x=t.value, color='k')\n",
    "        \n",
    "        fig.savefig(f'output/movie/{m}a{a}_i{i}_Rh{Rh}_w{w}_s{s:04d}.png')\n",
    "        \n",
    "        plt.close(fig)"
   ]
  },
  {
   "cell_type": "code",
   "execution_count": 13,
   "id": "498383fe-9e12-40d7-8934-cf06f5b77a97",
   "metadata": {},
   "outputs": [
    {
     "name": "stderr",
     "output_type": "stream",
     "text": [
      "100%|████████████████████████████████████████████████████████████████████████████████████████████| 2/2 [00:00<00:00, 166.06it/s]\n",
      "100%|█████████████████████████████████████████████████████████████████████████████████████████████| 2/2 [00:01<00:00,  1.29it/s]\n"
     ]
    }
   ],
   "source": [
    "plot_snapshot(0.5, 'M', 50, 10, 5)"
   ]
  },
  {
   "cell_type": "code",
   "execution_count": null,
   "id": "2ee6cb62-aa37-42d0-a928-1960311873ce",
   "metadata": {},
   "outputs": [],
   "source": []
  }
 ],
 "metadata": {
  "kernelspec": {
   "display_name": "Python 3 (ipykernel)",
   "language": "python",
   "name": "python3"
  },
  "language_info": {
   "codemirror_mode": {
    "name": "ipython",
    "version": 3
   },
   "file_extension": ".py",
   "mimetype": "text/x-python",
   "name": "python",
   "nbconvert_exporter": "python",
   "pygments_lexer": "ipython3",
   "version": "3.9.7"
  }
 },
 "nbformat": 4,
 "nbformat_minor": 5
}
