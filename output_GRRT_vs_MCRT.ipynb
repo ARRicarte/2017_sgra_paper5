{
 "cells": [
  {
   "cell_type": "code",
   "execution_count": null,
   "id": "768392ca-2f55-4cb1-8ef1-dd7ae9565f2e",
   "metadata": {},
   "outputs": [],
   "source": [
    "%load_ext autoreload\n",
    "%autoreload 2\n",
    "\n",
    "import numpy as np\n",
    "import pandas as pd\n",
    "\n",
    "from matplotlib import pyplot as plt"
   ]
  },
  {
   "cell_type": "code",
   "execution_count": null,
   "id": "badfbc9d-ef52-4c6e-9ec9-e56b48f0193b",
   "metadata": {},
   "outputs": [],
   "source": [
    "def GRRT_vs_MCRT(ax, freq, lim, log=False):\n",
    "    \n",
    "    df1 = pd.read_csv(f'cache/Illinois_thermal_w3/stat_{freq}_lc.tsv',  sep='\\t')\n",
    "    df2 = pd.read_csv(f'cache/Illinois_thermal_w3/stat_{freq}_sed.tsv', sep='\\t')\n",
    "\n",
    "    df3 = pd.read_csv(f'cache/Illinois_thermal_w4/stat_{freq}_lc.tsv',  sep='\\t')\n",
    "    df4 = pd.read_csv(f'cache/Illinois_thermal_w4/stat_{freq}_sed.tsv', sep='\\t')\n",
    "\n",
    "    df5 = pd.read_csv(f'cache/Illinois_thermal_w5/stat_{freq}_lc.tsv',  sep='\\t')\n",
    "    df6 = pd.read_csv(f'cache/Illinois_thermal_w5/stat_{freq}_sed.tsv', sep='\\t')\n",
    "\n",
    "    m = np.max([df1.med, df2.med, df3.med, df4.med, df5.med, df6.med])\n",
    "    \n",
    "    if m < 1:\n",
    "        f = 1000\n",
    "        p = 'm'\n",
    "    else:\n",
    "        f = 1\n",
    "        p = ''\n",
    "        \n",
    "    if log:\n",
    "        fmts = {'s':2, 'linewidth':1, 'alpha':0.2}\n",
    "        ax.scatter(f*df1['mean'], f*df2['mean'], **fmts, label='window 3')\n",
    "        ax.scatter(f*df3['mean'], f*df4['mean'], **fmts, label='window 4')\n",
    "        ax.scatter(f*df5['mean'], f*df6['mean'], **fmts, label='window 5')\n",
    "        ax.set_xlim(1e-11*lim, lim)\n",
    "        ax.set_ylim(1e-11*lim, lim)\n",
    "        ax.set_xscale('log')\n",
    "        ax.set_yscale('log')\n",
    "    else:\n",
    "        fmts = {'fmt':'.', 'markersize':2, 'linewidth':1, 'alpha':0.2}\n",
    "        ax.errorbar(f*df1['mean'], f*df2['mean'], xerr=f*df1['std'], yerr=f*df2['std'], **fmts, label='window 3')\n",
    "        ax.errorbar(f*df3['mean'], f*df4['mean'], xerr=f*df3['std'], yerr=f*df4['std'], **fmts, label='window 4')\n",
    "        ax.errorbar(f*df5['mean'], f*df6['mean'], xerr=f*df5['std'], yerr=f*df6['std'], **fmts, label='window 5')\n",
    "        ax.set_xlim(-0.1*lim, 1.1*lim)\n",
    "        ax.set_ylim(-0.1*lim, 1.1*lim)\n",
    "        \n",
    "    ax.plot([-0.1*lim, 1.1*lim], [-0.1*lim, 1.1*lim], ':', color='k')\n",
    "\n",
    "    print(np.count_nonzero((df1['mean'] < 1e-3) & (df2['mean'] > 1e-3)) +\n",
    "          np.count_nonzero((df3['mean'] < 1e-3) & (df4['mean'] > 1e-3)) +\n",
    "          np.count_nonzero((df5['mean'] < 1e-3) & (df6['mean'] > 1e-3)),\n",
    "          '/', 3 * len(df1))\n",
    "    \n",
    "    ax.set_aspect('equal')\n",
    "    ax.set_xlabel(f'{freq} GRRT flux ({p}Jy)')\n",
    "    ax.set_ylabel(f'{freq} GRMCRT flux ({p}Jy)')\n",
    "    \n",
    "fig, axes = plt.subplots(1,4, figsize=(20,5))\n",
    "GRRT_vs_MCRT(axes[0], '86GHz',  10)\n",
    "GRRT_vs_MCRT(axes[1], '230GHz', 5)\n",
    "GRRT_vs_MCRT(axes[2], 'NIR',    200)\n",
    "GRRT_vs_MCRT(axes[3], 'NIR',    200, log=True)\n",
    "axes[0].legend()\n",
    "fig.savefig('output/GRRT_vs_MCRT.pdf')\n",
    "fig.savefig('output/GRRT_vs_MCRT.png', dpi=300)"
   ]
  },
  {
   "cell_type": "code",
   "execution_count": null,
   "id": "1419dc73-6c89-4640-8964-6e8969a296f3",
   "metadata": {},
   "outputs": [],
   "source": []
  }
 ],
 "metadata": {
  "kernelspec": {
   "display_name": "Python 3 (ipykernel)",
   "language": "python",
   "name": "python3"
  },
  "language_info": {
   "codemirror_mode": {
    "name": "ipython",
    "version": 3
   },
   "file_extension": ".py",
   "mimetype": "text/x-python",
   "name": "python",
   "nbconvert_exporter": "python",
   "pygments_lexer": "ipython3",
   "version": "3.9.7"
  }
 },
 "nbformat": 4,
 "nbformat_minor": 5
}
