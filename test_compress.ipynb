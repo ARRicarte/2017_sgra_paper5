{
 "cells": [
  {
   "cell_type": "code",
   "execution_count": 1,
   "id": "dfab84bb-b622-4641-85ec-57cae732c600",
   "metadata": {},
   "outputs": [],
   "source": [
    "%load_ext autoreload\n",
    "%autoreload 2\n",
    "\n",
    "import numpy as np\n",
    "\n",
    "from matplotlib import pyplot as plt\n",
    "from astropy    import units\n",
    "\n",
    "from common import hallmark as hm\n",
    "from common import io_ipole as io\n",
    "from common import viz\n",
    "from common import dalt\n",
    "from common import mockservation as ms"
   ]
  },
  {
   "cell_type": "code",
   "execution_count": 2,
   "id": "0e1cc6f5-7965-4268-bb9a-2266c9a7311f",
   "metadata": {},
   "outputs": [
    {
     "name": "stdout",
     "output_type": "stream",
     "text": [
      "snapshot [5000 5001 5002 5003 5004 5005 5006 5007 5008 5009 5010 5011 5012 5013\n",
      " 5014 5015]\n",
      "inc [50 70]\n",
      "mag ['S']\n",
      "aspin [0.94]\n",
      "Rhigh [10 40]\n",
      "window [5]\n"
     ]
    }
   ],
   "source": [
    "pf = hm.ParaFrame(\n",
    "    'model/Illinois_thermal/230GHz/{mag}a{aspin:g}_w{window:d}/img_s{snapshot:d}_Rh{Rhigh:d}_i{inc:d}.h5'\n",
    ")\n",
    "\n",
    "for k in set(pf.keys()) - {'path'}:\n",
    "    globals()[k] = np.unique(pf[k])\n",
    "    print(k, globals()[k][:16])"
   ]
  },
  {
   "cell_type": "code",
   "execution_count": 3,
   "id": "616a52df-ac34-42d5-9e85-23957df93f8a",
   "metadata": {},
   "outputs": [
    {
     "data": {
      "text/html": [
       "<div>\n",
       "<style scoped>\n",
       "    .dataframe tbody tr th:only-of-type {\n",
       "        vertical-align: middle;\n",
       "    }\n",
       "\n",
       "    .dataframe tbody tr th {\n",
       "        vertical-align: top;\n",
       "    }\n",
       "\n",
       "    .dataframe thead th {\n",
       "        text-align: right;\n",
       "    }\n",
       "</style>\n",
       "<table border=\"1\" class=\"dataframe\">\n",
       "  <thead>\n",
       "    <tr style=\"text-align: right;\">\n",
       "      <th></th>\n",
       "      <th>path</th>\n",
       "      <th>mag</th>\n",
       "      <th>aspin</th>\n",
       "      <th>window</th>\n",
       "      <th>snapshot</th>\n",
       "      <th>Rhigh</th>\n",
       "      <th>inc</th>\n",
       "    </tr>\n",
       "  </thead>\n",
       "  <tbody>\n",
       "    <tr>\n",
       "      <th>1</th>\n",
       "      <td>model/Illinois_thermal/230GHz/Sa+0.94_w5/img_s...</td>\n",
       "      <td>S</td>\n",
       "      <td>0.94</td>\n",
       "      <td>5</td>\n",
       "      <td>5000</td>\n",
       "      <td>40</td>\n",
       "      <td>70</td>\n",
       "    </tr>\n",
       "    <tr>\n",
       "      <th>3</th>\n",
       "      <td>model/Illinois_thermal/230GHz/Sa+0.94_w5/img_s...</td>\n",
       "      <td>S</td>\n",
       "      <td>0.94</td>\n",
       "      <td>5</td>\n",
       "      <td>5001</td>\n",
       "      <td>40</td>\n",
       "      <td>70</td>\n",
       "    </tr>\n",
       "    <tr>\n",
       "      <th>5</th>\n",
       "      <td>model/Illinois_thermal/230GHz/Sa+0.94_w5/img_s...</td>\n",
       "      <td>S</td>\n",
       "      <td>0.94</td>\n",
       "      <td>5</td>\n",
       "      <td>5002</td>\n",
       "      <td>40</td>\n",
       "      <td>70</td>\n",
       "    </tr>\n",
       "    <tr>\n",
       "      <th>7</th>\n",
       "      <td>model/Illinois_thermal/230GHz/Sa+0.94_w5/img_s...</td>\n",
       "      <td>S</td>\n",
       "      <td>0.94</td>\n",
       "      <td>5</td>\n",
       "      <td>5003</td>\n",
       "      <td>40</td>\n",
       "      <td>70</td>\n",
       "    </tr>\n",
       "    <tr>\n",
       "      <th>9</th>\n",
       "      <td>model/Illinois_thermal/230GHz/Sa+0.94_w5/img_s...</td>\n",
       "      <td>S</td>\n",
       "      <td>0.94</td>\n",
       "      <td>5</td>\n",
       "      <td>5004</td>\n",
       "      <td>40</td>\n",
       "      <td>70</td>\n",
       "    </tr>\n",
       "    <tr>\n",
       "      <th>...</th>\n",
       "      <td>...</td>\n",
       "      <td>...</td>\n",
       "      <td>...</td>\n",
       "      <td>...</td>\n",
       "      <td>...</td>\n",
       "      <td>...</td>\n",
       "      <td>...</td>\n",
       "    </tr>\n",
       "    <tr>\n",
       "      <th>1991</th>\n",
       "      <td>model/Illinois_thermal/230GHz/Sa+0.94_w5/img_s...</td>\n",
       "      <td>S</td>\n",
       "      <td>0.94</td>\n",
       "      <td>5</td>\n",
       "      <td>5995</td>\n",
       "      <td>40</td>\n",
       "      <td>70</td>\n",
       "    </tr>\n",
       "    <tr>\n",
       "      <th>1993</th>\n",
       "      <td>model/Illinois_thermal/230GHz/Sa+0.94_w5/img_s...</td>\n",
       "      <td>S</td>\n",
       "      <td>0.94</td>\n",
       "      <td>5</td>\n",
       "      <td>5996</td>\n",
       "      <td>40</td>\n",
       "      <td>70</td>\n",
       "    </tr>\n",
       "    <tr>\n",
       "      <th>1995</th>\n",
       "      <td>model/Illinois_thermal/230GHz/Sa+0.94_w5/img_s...</td>\n",
       "      <td>S</td>\n",
       "      <td>0.94</td>\n",
       "      <td>5</td>\n",
       "      <td>5997</td>\n",
       "      <td>40</td>\n",
       "      <td>70</td>\n",
       "    </tr>\n",
       "    <tr>\n",
       "      <th>1997</th>\n",
       "      <td>model/Illinois_thermal/230GHz/Sa+0.94_w5/img_s...</td>\n",
       "      <td>S</td>\n",
       "      <td>0.94</td>\n",
       "      <td>5</td>\n",
       "      <td>5998</td>\n",
       "      <td>40</td>\n",
       "      <td>70</td>\n",
       "    </tr>\n",
       "    <tr>\n",
       "      <th>1999</th>\n",
       "      <td>model/Illinois_thermal/230GHz/Sa+0.94_w5/img_s...</td>\n",
       "      <td>S</td>\n",
       "      <td>0.94</td>\n",
       "      <td>5</td>\n",
       "      <td>5999</td>\n",
       "      <td>40</td>\n",
       "      <td>70</td>\n",
       "    </tr>\n",
       "  </tbody>\n",
       "</table>\n",
       "<p>1000 rows × 7 columns</p>\n",
       "</div>"
      ],
      "text/plain": [
       "                                                   path mag  aspin  window  \\\n",
       "1     model/Illinois_thermal/230GHz/Sa+0.94_w5/img_s...   S   0.94       5   \n",
       "3     model/Illinois_thermal/230GHz/Sa+0.94_w5/img_s...   S   0.94       5   \n",
       "5     model/Illinois_thermal/230GHz/Sa+0.94_w5/img_s...   S   0.94       5   \n",
       "7     model/Illinois_thermal/230GHz/Sa+0.94_w5/img_s...   S   0.94       5   \n",
       "9     model/Illinois_thermal/230GHz/Sa+0.94_w5/img_s...   S   0.94       5   \n",
       "...                                                 ...  ..    ...     ...   \n",
       "1991  model/Illinois_thermal/230GHz/Sa+0.94_w5/img_s...   S   0.94       5   \n",
       "1993  model/Illinois_thermal/230GHz/Sa+0.94_w5/img_s...   S   0.94       5   \n",
       "1995  model/Illinois_thermal/230GHz/Sa+0.94_w5/img_s...   S   0.94       5   \n",
       "1997  model/Illinois_thermal/230GHz/Sa+0.94_w5/img_s...   S   0.94       5   \n",
       "1999  model/Illinois_thermal/230GHz/Sa+0.94_w5/img_s...   S   0.94       5   \n",
       "\n",
       "      snapshot  Rhigh  inc  \n",
       "1         5000     40   70  \n",
       "3         5001     40   70  \n",
       "5         5002     40   70  \n",
       "7         5003     40   70  \n",
       "9         5004     40   70  \n",
       "...        ...    ...  ...  \n",
       "1991      5995     40   70  \n",
       "1993      5996     40   70  \n",
       "1995      5997     40   70  \n",
       "1997      5998     40   70  \n",
       "1999      5999     40   70  \n",
       "\n",
       "[1000 rows x 7 columns]"
      ]
     },
     "metadata": {},
     "output_type": "display_data"
    }
   ],
   "source": [
    "sel = pf(inc=70)\n",
    "display(sel)"
   ]
  },
  {
   "cell_type": "code",
   "execution_count": 4,
   "id": "138402de-2a3d-4c29-8836-91fc0235ba41",
   "metadata": {},
   "outputs": [],
   "source": [
    "imgs = io.load_mov(sel[:100].path)\n",
    "tmp  = ms.compress(imgs, N=1280)"
   ]
  },
  {
   "cell_type": "code",
   "execution_count": 5,
   "id": "ae9c8e36-9bbd-49eb-a711-42805b799c85",
   "metadata": {},
   "outputs": [
    {
     "data": {
      "text/plain": [
       "<AxesSubplot:xlabel='Relative R.A. [$\\\\mathrm{\\\\mu as}$]', ylabel='Relative Declination [$\\\\mathrm{\\\\mu as}$]'>"
      ]
     },
     "execution_count": 5,
     "metadata": {},
     "output_type": "execute_result"
    },
    {
     "data": {
      "image/png": "[encoded data removed]",
      "text/plain": [
       "<Figure size 432x288 with 1 Axes>"
      ]
     },
     "metadata": {
      "needs_background": "light"
     },
     "output_type": "display_data"
    }
   ],
   "source": [
    "viz.show(tmp, s=0)"
   ]
  },
  {
   "cell_type": "code",
   "execution_count": 8,
   "id": "df900119-9e1c-4cf6-933f-a92f7ddc946b",
   "metadata": {},
   "outputs": [
    {
     "name": "stdout",
     "output_type": "stream",
     "text": [
      "(100, 30, 30)\n",
      "(100, 30, 30)\n",
      "(100, 30, 30)\n"
     ]
    },
    {
     "data": {
      "image/png": "[encoded data removed]",
      "text/plain": [
       "<Figure size 432x288 with 1 Axes>"
      ]
     },
     "metadata": {
      "needs_background": "light"
     },
     "output_type": "display_data"
    }
   ],
   "source": [
    "def mkplot(N=400, **kwargs):\n",
    "    m   = imgs.meta\n",
    "    tmp = ms.crop(ms.compress(imgs, N=N), m.width, m.height)\n",
    "    vis = ms.mockserve(tmp, [1024,1024])\n",
    "    \n",
    "    print(tmp.shape)\n",
    "    \n",
    "    U, V = vis.uvd\n",
    "    U = np.linspace(-U/2,U/2,vis.shape[-2],endpoint=False)\n",
    "    V = np.linspace( 0,  V/2,vis.shape[-1],endpoint=False)\n",
    "\n",
    "    plt.loglog(V, abs(vis[0,vis.shape[-2]//2,:]), **kwargs)\n",
    "    \n",
    "mkplot(      linewidth=3)\n",
    "mkplot(800,  linewidth=2, linestyle='--')\n",
    "mkplot(1600, linewidth=1, linestyle=':')"
   ]
  },
  {
   "cell_type": "code",
   "execution_count": null,
   "id": "0aa90dff-097c-4992-8d3a-ca3257265386",
   "metadata": {},
   "outputs": [],
   "source": []
  }
 ],
 "metadata": {
  "kernelspec": {
   "display_name": "Python 3 (ipykernel)",
   "language": "python",
   "name": "python3"
  },
  "language_info": {
   "codemirror_mode": {
    "name": "ipython",
    "version": 3
   },
   "file_extension": ".py",
   "mimetype": "text/x-python",
   "name": "python",
   "nbconvert_exporter": "python",
   "pygments_lexer": "ipython3",
   "version": "3.9.7"
  }
 },
 "nbformat": 4,
 "nbformat_minor": 5
}
